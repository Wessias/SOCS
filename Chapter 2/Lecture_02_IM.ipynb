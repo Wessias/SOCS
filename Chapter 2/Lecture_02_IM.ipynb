{
 "cells": [
  {
   "cell_type": "markdown",
   "metadata": {},
   "source": [
    "# Chapter 2: Ising Model\n",
    "\n",
    "<img src=\"ch02_fig01.jpg\" alt=\"title\" width=\"600px\" />"
   ]
  },
  {
   "cell_type": "markdown",
   "metadata": {},
   "source": [
    "## Motivation\n",
    "\n",
    "**Ising model**: describes the evolution of a sistem of spin on a lattice with nearest-neighbours interactions.\n",
    "\n",
    "A fundamental model in statistical mechanics.\n",
    "\n",
    "Describes ferromagnetic systems, phase transitions, spin glasses.\n",
    "\n",
    "We will simulate it with a basic Monte Carlo method. \n",
    "\n",
    "\n",
    "\n",
    "**Key advantages**:\n",
    "- Simple, though accounts for a variety of complex phenomena. \n",
    "- Generalizable (multidimensions; neighbours interaction; ...)\n",
    "- Applications: physics, material science, neuroscience, artificial neural networks, financial market, among others.\n",
    "- Provides a hands-on example for a basic Monte Carlo simulation."
   ]
  },
  {
   "cell_type": "markdown",
   "metadata": {},
   "source": [
    "### Physics & Material Sciences\n",
    "\n",
    "<img src=\"IM_Moving_Magnetic_Domains.gif\" alt=\"title\" width=\"600px\" rotate=\"90\" />\n",
    "\n",
    "- ferromagnetism, magnetic phenomena\n",
    "\n",
    "- phase transitions \n",
    "\n",
    "- spin glasses\n",
    "\n",
    "**Note:** Giorgio Parisi was awarded the Nobel prize in physics for his contributions to the theory of spin glasses. \n",
    "\n",
    "Spin glasses are disordered systems with slow, many-timescale dynamics. \n",
    "They can model a variety of phenomena, from the dynamics of polymers to neural networks."
   ]
  },
  {
   "cell_type": "markdown",
   "metadata": {},
   "source": [
    "### Other disciplines\n",
    "\n",
    "<img src=\"IM_Brain.png\" alt=\"10.1155/2014/237898\" width=\"600px\" />\n",
    "\n",
    "- Neuroscience: minimalistic model of neuronal activity \n",
    "\n",
    "- Artificial Neural Networks: Hopfield network (or: associative memory)\n",
    "\n",
    "- Marine biology: minimalistic model of ice-water distribution on the sea (related to phase transition)\n",
    "\n",
    "- Financial markets: Bornholdt's heterogeneous agent-based spin model \n"
   ]
  },
  {
   "cell_type": "markdown",
   "metadata": {},
   "source": [
    "## Application example: A Spin Glass Model of Path Integration in Rat Medial Entorhinal Cortex\n",
    "\n",
    "\n",
    "[A Spin Glass Model of Path Integration in Rat Medial Entorhinal Cortex](https://www.jneurosci.org/content/26/16/4266)\n",
    "\n",
    "<img src=\"IM_spinglass_model_network_activity_pattern_formation.png\" alt=\"title\" width=\"600px\" />"
   ]
  },
  {
   "cell_type": "markdown",
   "metadata": {},
   "source": [
    "## Kramers Transitions\n",
    "\n",
    "\n",
    "System with three possible states: Left, Middle, Right.\n",
    "\n",
    "$$\n",
    "  \\mathrm{Left} \\quad  \\Longleftrightarrow \\quad \\mathrm{Middle} \\quad \\Longleftrightarrow \\quad \\mathrm{Right}\n",
    "$$\n",
    "\n",
    "The energy of Left and Right states is 0 (*ground states*)\n",
    "\n",
    "The energy of the Middle state is $E_{\\rm b}$ (*energy barrier*)"
   ]
  },
  {
   "cell_type": "markdown",
   "metadata": {},
   "source": [
    "### Statistical mechanics - fundamental concepts\n",
    "\n",
    "Probability $p_i$ of a system to be in a state with energy $E_{i}$:\n",
    "\n",
    "$$\n",
    "    p_i = \\frac{1}{Z} e^{-\\frac{E_i}{k_{\\rm B}T}}, \n",
    "$$\n",
    "\n",
    "Partition function:\n",
    "\n",
    "$$\n",
    "Z=\\sum\\limits_i  e^{-\\frac{E_i}{k_{\\rm B}T}}\n",
    "$$"
   ]
  },
  {
   "cell_type": "markdown",
   "metadata": {},
   "source": [
    "## Simulation of the Kramers Transitions\n",
    "\n",
    "\n",
    "We indicate with:\n",
    "\n",
    "- 0 : the Left state\n",
    "- 1 : the Middle state\n",
    "- 2 : the Right state\n",
    "\n",
    "At each step, the possible future states are only the present state and its neighboring states (e.g., a transition from Left to Right is not possible). \n",
    "\n",
    "We start from the Left state."
   ]
  },
  {
   "cell_type": "markdown",
   "metadata": {},
   "source": [
    "### Probability distribution\n",
    "\n",
    "Implement a function to calculate the probability distribution given the energies of the possible states of the system."
   ]
  },
  {
   "cell_type": "code",
   "execution_count": 1,
   "metadata": {},
   "outputs": [],
   "source": [
    "import numpy as np \n",
    "    \n",
    "def probability_distribution(Ei):\n",
    "    \"\"\"\n",
    "    Function to generate the probability distribution for a system with states \n",
    "    with Ei energies.\n",
    "    \n",
    "    Parameters\n",
    "    ==========\n",
    "    Ei : Array (energies) [kBT].\n",
    "    \"\"\"\n",
    "    \n",
    "    Z = sum(np.exp(- Ei))  # Partition function.\n",
    "    \n",
    "    pi = 1 / Z * np.exp(- Ei)  # Probability.\n",
    "    \n",
    "    return pi, Z"
   ]
  },
  {
   "cell_type": "markdown",
   "metadata": {},
   "source": [
    "Initialize the system"
   ]
  },
  {
   "cell_type": "code",
   "execution_count": 2,
   "metadata": {},
   "outputs": [],
   "source": [
    "N = 3  # Number of states.\n",
    "Eb = 2  # Energy barrier [kBT].\n",
    "\n",
    "xi = np.arange(N)  # States.\n",
    "\n",
    "Ei = np.array([0, Eb, 0])  # Energies.\n",
    "\n",
    "pi, Z = probability_distribution(Ei)  # Partition function."
   ]
  },
  {
   "cell_type": "markdown",
   "metadata": {},
   "source": [
    "Plot the energy spectrum"
   ]
  },
  {
   "cell_type": "code",
   "execution_count": 3,
   "metadata": {},
   "outputs": [
    {
     "data": {
      "image/png": "[encoded data removed]",
      "text/plain": [
       "<Figure size 640x480 with 1 Axes>"
      ]
     },
     "metadata": {},
     "output_type": "display_data"
    }
   ],
   "source": [
    "from matplotlib import pyplot as plt\n",
    "\n",
    "plt.bar(xi, Ei, color='#FF8000', width=0.4, edgecolor='#A04000')\n",
    "plt.legend(['Energy (kBT)'])\n",
    "\n",
    "plt.title('Energy spectrum')\n",
    "\n",
    "plt.xlabel('states')\n",
    "plt.ylabel('Energy (kBT)')\n",
    "\n",
    "plt.show()"
   ]
  },
  {
   "cell_type": "markdown",
   "metadata": {},
   "source": [
    "Plot the probability distribution"
   ]
  },
  {
   "cell_type": "code",
   "execution_count": 4,
   "metadata": {},
   "outputs": [
    {
     "data": {
      "image/png": "[encoded data removed]",
      "text/plain": [
       "<Figure size 640x480 with 1 Axes>"
      ]
     },
     "metadata": {},
     "output_type": "display_data"
    }
   ],
   "source": [
    "plt.bar(xi, pi, color='c', width=0.4, edgecolor='k')\n",
    "plt.legend(['Probability'])\n",
    "\n",
    "plt.title('Probability distribution')\n",
    "\n",
    "plt.xlabel('states')\n",
    "plt.ylabel('Probability')\n",
    "\n",
    "plt.show()"
   ]
  },
  {
   "cell_type": "markdown",
   "metadata": {},
   "source": [
    "### Transition\n",
    "\n",
    "Implement a function that, given the current state, the probability distribution, and the transition rule, returns the state in the next time step."
   ]
  },
  {
   "cell_type": "code",
   "execution_count": 5,
   "metadata": {},
   "outputs": [],
   "source": [
    "def next_state_3(x, pi):\n",
    "    \"\"\"\n",
    "    Function to generate the next state given the probability distribution and \n",
    "    the current state. \n",
    "    Specialized to the case of 3 states (0, 1, 2).\n",
    "    \n",
    "    Parameters\n",
    "    ==========\n",
    "    x  : current state (between 0 and 2)\n",
    "    pi : probability distribution\n",
    "    \"\"\"\n",
    "    \n",
    "    if x not in (0, 1, 2):\n",
    "        raise ValueError('x must be 0 or 1 or 2')\n",
    "   \n",
    "    p = np.random.rand()\n",
    "    \n",
    "    if p < pi[0]:\n",
    "        x_next = 0\n",
    "    elif p < pi[0] + pi[1]:\n",
    "        x_next = 1\n",
    "    else:\n",
    "        x_next = 2\n",
    "    \n",
    "    if abs(x - x_next) > 1:\n",
    "        x_next = x\n",
    "            \n",
    "    return x_next"
   ]
  },
  {
   "cell_type": "markdown",
   "metadata": {},
   "source": [
    "Let the system evolve for a certain number of time steps."
   ]
  },
  {
   "cell_type": "code",
   "execution_count": 6,
   "metadata": {},
   "outputs": [],
   "source": [
    "N_steps = 500\n",
    "\n",
    "x = np.zeros(N_steps); x[0] = 0\n",
    "for i in range(N_steps - 1):\n",
    "    x[i + 1] = next_state_3(x[i], pi)"
   ]
  },
  {
   "cell_type": "markdown",
   "metadata": {},
   "source": [
    "Plot the evolution of the system state."
   ]
  },
  {
   "cell_type": "code",
   "execution_count": 7,
   "metadata": {},
   "outputs": [
    {
     "data": {
      "image/png": "[encoded data removed]",
      "text/plain": [
       "<Figure size 640x480 with 1 Axes>"
      ]
     },
     "metadata": {},
     "output_type": "display_data"
    }
   ],
   "source": [
    "t = np.arange(N_steps)\n",
    "\n",
    "plt.plot(t, x, \".-\", color='k', markersize=5, linewidth=0.5)\n",
    "\n",
    "plt.title('Trajectory')\n",
    "\n",
    "plt.xlabel('t (s)')\n",
    "plt.ylabel('x (state label)')\n",
    "\n",
    "plt.show()"
   ]
  },
  {
   "cell_type": "markdown",
   "metadata": {},
   "source": [
    "Plot the histogram of the state occupancy in the trajectory"
   ]
  },
  {
   "cell_type": "code",
   "execution_count": 8,
   "metadata": {},
   "outputs": [
    {
     "data": {
      "image/png": "[encoded data removed]",
      "text/plain": [
       "<Figure size 640x480 with 1 Axes>"
      ]
     },
     "metadata": {},
     "output_type": "display_data"
    }
   ],
   "source": [
    "bins_edges = np.arange(4) - 0.5\n",
    "occupancy = np.histogram(x, bins=bins_edges)\n",
    "\n",
    "plt.bar(xi, occupancy[0], color='m', width=0.4, edgecolor='k')\n",
    "\n",
    "plt.title('State Occupancy')\n",
    "\n",
    "plt.xlabel('states')\n",
    "plt.ylabel('# occurrences')\n",
    "\n",
    "plt.show()"
   ]
  },
  {
   "cell_type": "markdown",
   "metadata": {},
   "source": [
    "Plot experimental probability (obtained from the realized trajectory) and compare it with the *a priori* probability"
   ]
  },
  {
   "cell_type": "code",
   "execution_count": 9,
   "metadata": {},
   "outputs": [
    {
     "data": {
      "image/png": "[encoded data removed]",
      "text/plain": [
       "<Figure size 640x480 with 1 Axes>"
      ]
     },
     "metadata": {},
     "output_type": "display_data"
    }
   ],
   "source": [
    "pi_exp = occupancy[0] / sum(occupancy[0])\n",
    "\n",
    "plt.bar(xi, pi, color='c', width=0.4, edgecolor='k', label='a priori')\n",
    "plt.bar(xi, pi_exp, color='m', width=0.1, edgecolor='k', label='experimental')\n",
    "plt.legend()\n",
    "\n",
    "plt.title('Probability')\n",
    "\n",
    "plt.xlabel('states')\n",
    "plt.ylabel('Probability')\n",
    "\n",
    "plt.show()"
   ]
  },
  {
   "cell_type": "markdown",
   "metadata": {},
   "source": [
    "## Ising Model\n",
    "\n",
    "In the 2D Ising model, we have a suare lattice of spins.\n",
    "Each spin can be *up* or *down*.\n",
    "\n",
    "Spin in position $(i,j)$: $\\sigma_{i,j}$\n",
    "\n",
    "Possible values: $\\sigma_{i,j} = \\pm 1$\n",
    "\n",
    "Interaction energy of spin in position $(i,j)$ with its fist neighbors:\n",
    "\n",
    "$$\n",
    "    E_{i,j} = - H \\sigma_{i,j} - J \\sigma_{i,j} \\sum \\sigma_{i\\pm 1,j\\pm 1},\n",
    "$$\n",
    "\n",
    "$H$: external field (usually: magnetic field)\n",
    "\n",
    "$J$: spin-spin coupling"
   ]
  },
  {
   "cell_type": "markdown",
   "metadata": {},
   "source": [
    "### Zero external field: $H = 0$\n",
    "\n",
    "Let's simulate a system with $N \\times N$ spins.\n",
    "\n",
    "Initialization: random.\n",
    "\n",
    "**Note:** assume $k_{\\rm B}=1$ and $J=1$ in this task. No loss of generality."
   ]
  },
  {
   "cell_type": "code",
   "execution_count": 10,
   "metadata": {},
   "outputs": [
    {
     "name": "stdout",
     "output_type": "stream",
     "text": [
      "Spin lattice created:  N_up=20010.0  N_down=19990.0\n"
     ]
    }
   ],
   "source": [
    "N = 200  # Size of the splin lattice.\n",
    "H = 0  # External field.\n",
    "J = 1  # Spin-spin coupling.\n",
    "T = 10  # Temperature. Temperatura critica ~2.269.\n",
    "\n",
    "sl = 2 * np.random.randint(2, size=(N, N)) - 1\n",
    "\n",
    "N_up = np.sum(sl + 1) / 2\n",
    "N_down = N * N - N_up\n",
    "\n",
    "print(f\"Spin lattice created:  N_up={N_up}  N_down={N_down}\")"
   ]
  },
  {
   "cell_type": "markdown",
   "metadata": {},
   "source": [
    "Write a function that returns the values of the neigbbors of the spin in position (i,j)"
   ]
  },
  {
   "cell_type": "code",
   "execution_count": 11,
   "metadata": {},
   "outputs": [],
   "source": [
    "def neighboring_spins(i_list, j_list, sl):\n",
    "    \"\"\"\n",
    "    Function returning the position of the neighbouring spins of a list of \n",
    "    spins identified by their positions in the spin lattice.\n",
    "    \n",
    "    Parameters\n",
    "    ==========\n",
    "    i_list : Spin position first indices.\n",
    "    j_list : Spin position second indices.\n",
    "    sl : Spin lattice.\n",
    "    \"\"\"\n",
    "\n",
    "    Ni, Nj = sl.shape  # Shape of the spin lattice.\n",
    "    \n",
    "    # Position neighbors right.\n",
    "    i_r = i_list  \n",
    "    j_r = list(map(lambda x:(x + 1) % Nj, j_list))   \n",
    "\n",
    "    # Position neighbors left.\n",
    "    i_l = i_list  \n",
    "    j_l = list(map(lambda x:(x - 1) % Nj, j_list))   \n",
    "\n",
    "    # Position neighbors up.\n",
    "    i_u = list(map(lambda x:(x - 1) % Ni, i_list))  \n",
    "    j_u = j_list  \n",
    "\n",
    "    # Position neighbors down.\n",
    "    i_d = list(map(lambda x:(x + 1) % Ni, i_list)) \n",
    "    j_d = j_list   \n",
    "\n",
    "    # Spin values.\n",
    "    sl_u = sl[i_u, j_u]\n",
    "    sl_d = sl[i_d, j_d]\n",
    "    sl_l = sl[i_l, j_l]\n",
    "    sl_r = sl[i_r, j_r]\n",
    "\n",
    "    return sl_u, sl_d, sl_l, sl_r"
   ]
  },
  {
   "cell_type": "markdown",
   "metadata": {},
   "source": [
    "Write a function that returns the energies of the possible states of the spin in position (i,j)"
   ]
  },
  {
   "cell_type": "code",
   "execution_count": 12,
   "metadata": {},
   "outputs": [],
   "source": [
    "def energies_spins(i_list, j_list, sl, H, J):\n",
    "    \"\"\"\n",
    "    Function returning the energies of the states for the spins in given \n",
    "    positions in the spin lattice.\n",
    "    \n",
    "    Parameters\n",
    "    ==========\n",
    "    i_list : Spin position first indices.\n",
    "    j_list : Spin position second indices.\n",
    "    sl : Spin lattice.\n",
    "    \"\"\"\n",
    "    \n",
    "    sl_u, sl_d, sl_l, sl_r = neighboring_spins(i_list, j_list, sl)\n",
    "    \n",
    "    sl_s = sl_u + sl_d + sl_l + sl_r \n",
    "    \n",
    "    E_u = - H - J * sl_s\n",
    "    E_d =   H + J * sl_s \n",
    "    \n",
    "    return E_u, E_d"
   ]
  },
  {
   "cell_type": "markdown",
   "metadata": {},
   "source": [
    "Write a function that returns the probabilities of the possible states of the spin in position (i,j)"
   ]
  },
  {
   "cell_type": "code",
   "execution_count": 13,
   "metadata": {},
   "outputs": [],
   "source": [
    "def probabilities_spins(i_list, j_list, sl, H, J, T):\n",
    "    \"\"\"\n",
    "    Function returning the energies of the states for the spins in given \n",
    "    positions in the spin lattice.\n",
    "    \n",
    "    Parameters\n",
    "    ==========\n",
    "    i_list : Spin position first indices.\n",
    "    j_list : Spin position second indices.\n",
    "    sl : Spin lattice.\n",
    "    \"\"\"\n",
    "    \n",
    "    E_u, E_d = energies_spins(i_list, j_list, sl, H, J)\n",
    "    \n",
    "    Ei = np.array([E_u, E_d])\n",
    "    \n",
    "    Z = np.sum(np.exp(- Ei / T), axis=0)  # Partition function.\n",
    "    pi = 1 / np.array([Z, Z]) * np.exp(- Ei / T)  # Probability.\n",
    "\n",
    "    return pi, Z       "
   ]
  },
  {
   "cell_type": "markdown",
   "metadata": {},
   "source": [
    "### Simulation of time evolution for the Ising model\n",
    "\n",
    "Each time step, we randomly choose $S$ spins ($S \\ll N^2$).\n",
    "\n",
    "For each spin, we calculate the possible energies of the configurations with spin up and down.\n",
    "\n",
    "On the base of these energies, we randomly draw the status of each spin  in the next time step."
   ]
  },
  {
   "cell_type": "code",
   "execution_count": 14,
   "metadata": {},
   "outputs": [],
   "source": [
    "import random\n",
    "import time\n",
    "from tkinter import *\n",
    "\n",
    "f = 0.05  # Number of randomly selected spins to flip-test.\n",
    "N_skip = 10 # Visualize status every N_skip steps. \n",
    "\n",
    "window_size = 600\n",
    "\n",
    "tk = Tk()\n",
    "tk.geometry(f'{window_size + 20}x{window_size + 20}')\n",
    "tk.configure(background='#000000')\n",
    "\n",
    "canvas = Canvas(tk, background='#ECECEC')  # Generate animation window.\n",
    "tk.attributes('-topmost', 0)\n",
    "canvas.place(x=10, y=10, height=window_size, width=window_size)\n",
    "\n",
    "Nspins = np.size(sl)  # Total number of spins in the spin lattice.\n",
    "Ni, Nj = sl.shape\n",
    "\n",
    "S = int(np.ceil(Nspins * f))  # Number of randomly selected spins.\n",
    "\n",
    "step = 0\n",
    "\n",
    "def stop_loop(event):\n",
    "    global running\n",
    "    running = False\n",
    "tk.bind(\"<Escape>\", stop_loop)  # Bind the Escape key to stop the loop.\n",
    "running = True  # Flag to control the loop.\n",
    "while running:\n",
    "    ns = random.sample(range(Nspins), S)\n",
    "\n",
    "    i_list = list(map(lambda x: x % Ni, ns)) \n",
    "    j_list = list(map(lambda x: x // Ni, ns)) \n",
    "\n",
    "    pi, Z = probabilities_spins(i_list, j_list, sl, H, J, T)\n",
    "\n",
    "    rn = np.random.rand(S)\n",
    "    for i in range(S):\n",
    "        if rn[i] > pi[0, i]:\n",
    "            sl[i_list[i], j_list[i]] = -1\n",
    "        else:\n",
    "            sl[i_list[i], j_list[i]] = 1\n",
    "\n",
    "    # Update animation frame.\n",
    "    if step % N_skip == 0:        \n",
    "        canvas.delete('all')\n",
    "        spins = []\n",
    "        for i in range(Ni):\n",
    "            for j in range(Nj):\n",
    "                spin_color = '#FFFFFF' if sl[i,j] == 1 else '#000000'\n",
    "                spins.append(\n",
    "                    canvas.create_rectangle(\n",
    "                        j / Nj * window_size, \n",
    "                        i / Ni * window_size,\n",
    "                        (j + 1) / Nj * window_size, \n",
    "                        (i + 1) / Ni * window_size,\n",
    "                        outline='', \n",
    "                        fill=spin_color,\n",
    "                    )\n",
    "                )\n",
    "        \n",
    "        tk.title(f'Iteration {step}')\n",
    "        tk.update_idletasks()\n",
    "        tk.update()\n",
    "        time.sleep(0.1)  # Increase to slow down the simulation.\n",
    "\n",
    "    step += 1\n",
    "\n",
    "tk.update_idletasks()\n",
    "tk.update()\n",
    "tk.mainloop()  # Release animation handle (close window to finish)."
   ]
  },
  {
   "cell_type": "code",
   "execution_count": null,
   "metadata": {},
   "outputs": [],
   "source": []
  }
 ],
 "metadata": {
  "kernelspec": {
   "display_name": "ffr120",
   "language": "python",
   "name": "python3"
  },
  "language_info": {
   "codemirror_mode": {
    "name": "ipython",
    "version": 3
   },
   "file_extension": ".py",
   "mimetype": "text/x-python",
   "name": "python",
   "nbconvert_exporter": "python",
   "pygments_lexer": "ipython3",
   "version": "3.12.2"
  }
 },
 "nbformat": 4,
 "nbformat_minor": 4
}
