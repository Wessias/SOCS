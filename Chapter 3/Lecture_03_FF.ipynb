{
 "cells": [
  {
   "cell_type": "markdown",
   "metadata": {},
   "source": [
    "# Chapter 3: Forest Fires\n",
    "\n",
    "<img src=\"FF_fig_01.jpg\" alt=\"title\" width=\"600px\" />"
   ]
  },
  {
   "cell_type": "markdown",
   "metadata": {},
   "source": [
    "## Motivation\n",
    "\n",
    "**Forest fires**: an example of self-organized critical system.\n",
    "\n",
    "**Self-organized criticality**: property of dynamical systems that have a critical point as an attractor.\n",
    "\n",
    "Display of scale-invariance as in a critical point of a phase transition without having to fine-tune the control papameters.\n",
    "\n",
    "*The system tunes itself towards criticality.*\n",
    "\n",
    "\n",
    "**Notes**:\n",
    "- Self-organized criticality is thought to be relevant for the emergence of complexity in nature. \n",
    "\n",
    "\n",
    "**Related topics**:\n",
    "- Fractals, scale invariance, power laws, critical phenomena.\n",
    "- Cellular automata and Game of life (complexity emerges from simple local interactions).\n"
   ]
  },
  {
   "cell_type": "markdown",
   "metadata": {},
   "source": [
    "### Self-organized systems in nature\n",
    "\n",
    "<img src=\"FF_fig_02.jpg\" alt=\"title\" width=\"600px\" />\n",
    "\n",
    "- Sandpiles (Bak, Tang, Wiesenfeld)\n",
    "\n",
    "- Forest fires\n",
    "\n",
    "- Earthquake (magnitude; frequency of aftershocks)\n",
    "\n",
    "- Fluctuations in economic systems (e.g., financial markets, ...)\n",
    "\n",
    "- Brain activity (neuronal avalanches in the cortex)\n",
    "\n",
    "- Stellar flares"
   ]
  },
  {
   "cell_type": "markdown",
   "metadata": {},
   "source": [
    "## Application example 1: Power-Law Scaling in the Brain Surface Electric Potential\n",
    "\n",
    "\n",
    "[Power-Law Scaling in the Brain Surface Electric Potential](https://journals.plos.org/ploscompbiol/article?id=10.1371/journal.pcbi.1000609)\n",
    "\n",
    "<img src=\"FF_fig_03.png\" alt=\"title\" width=\"600px\" />"
   ]
  },
  {
   "cell_type": "markdown",
   "metadata": {},
   "source": [
    "## Application example 2: Self-organized Criticality in Stellar Flares\n",
    "\n",
    "\n",
    "[Self-organized Criticality in Stellar Flares](https://iopscience.iop.org/article/10.3847/1538-4357/abdec7)\n",
    "\n",
    "<img src=\"FF_fig_04.png\" alt=\"title\" width=\"600px\" />"
   ]
  },
  {
   "cell_type": "markdown",
   "metadata": {},
   "source": [
    "## Forest fires\n",
    "\n",
    "<img src=\"FF_fig_05.png\" alt=\"title\" width=\"600px\" />\n",
    "\n",
    "Forest: Square lattice $N \\times N$, initially empty. \n",
    "\n",
    "Each cell of the lattice can host a tree. \n",
    "\n",
    "Each round: trees can grow in the forest (probability: $p$) and a lightning can hit (probability: $f$).\n",
    "\n",
    "If the lightning hits a cell with a tree, it ignites a fire event.\n",
    "\n",
    "The fire:\n",
    "- propagates to the neighboring cells (von Neumann neighborhood) that are occupied by a tree. \n",
    "\n",
    "- is propagated to the neighbours recursively. \n",
    "\n",
    "- cannot propagate to empty cells or cells that were already ignited. \n",
    "\n",
    "- stops when it doesn't find any more tree to burn.\n",
    "\n",
    "After the fire stops, the size of the fire is calculated by counting the total number of trees burned during the propagation."
   ]
  },
  {
   "cell_type": "markdown",
   "metadata": {},
   "source": [
    "## Simulation of Forest Fires\n",
    "\n",
    "In the simulation, we indicate with:\n",
    "\n",
    "$0$ : an empty cell\n",
    "\n",
    "$1$ : cell with a tree\n",
    "\n",
    "$-1$ : cell on fire during the fire event (will turn $0$ at the end of the round)\n",
    "\n"
   ]
  },
  {
   "cell_type": "markdown",
   "metadata": {},
   "source": [
    "### Function growing the trees in the forest\n",
    "\n",
    "Implement a function to grow trees in the forest according to the probability $p$."
   ]
  },
  {
   "cell_type": "code",
   "execution_count": 8,
   "metadata": {},
   "outputs": [],
   "source": [
    "import numpy as np \n",
    "    \n",
    "def grow_trees(forest, p):\n",
    "    \"\"\"\n",
    "    Function to pgrow new trees in the forest.\n",
    "    \n",
    "    Parameters\n",
    "    ==========\n",
    "    forest : 2-dimensional array.\n",
    "    p : Probability for a tree to be generated in an empty cell.\n",
    "    \"\"\"\n",
    "    \n",
    "    Ni, Nj = forest.shape  # Dimensions of the forest.\n",
    "    \n",
    "    new_trees = np.random.rand(Ni, Nj)\n",
    "\n",
    "    new_trees_indices = np.where(new_trees <= p)\n",
    "    forest[new_trees_indices] = 1\n",
    "    \n",
    "    return forest"
   ]
  },
  {
   "cell_type": "markdown",
   "metadata": {},
   "source": [
    "### Function propagating the fire\n",
    "\n",
    "Implement a function to propagate the fire on a populated forest.\n",
    "\n",
    "Uses von Neumann neighborhood for the propagation.\n",
    "\n",
    "Algorithm:\n",
    "\n",
    "1. We start from the cell hit by the lighgtning.\n",
    "2. If it hosts a tree, we set it on fire (cell set to $-1$) and then move to check the neighbours up, left, down, right.\n",
    "3. We track the coordinates of the adjacent cells *catching fire* in a list. \n",
    "4. We reiterate the process (steps 2-4) for each of the cells in the list, until the list of cells to check is empty (i.e., the fire stops propagating)."
   ]
  },
  {
   "cell_type": "code",
   "execution_count": 9,
   "metadata": {},
   "outputs": [],
   "source": [
    "def propagate_fire(forest, i0, j0):\n",
    "    \"\"\"\n",
    "    Function to propagate the fire on a populated forest.\n",
    "    \n",
    "    Parameters\n",
    "    ==========\n",
    "    forest : 2-dimensional array.\n",
    "    i0 : First index of the cell where the fire occurs.\n",
    "    j0 : Second index of the cell where the fire occurs.\n",
    "    \"\"\"\n",
    "    \n",
    "    Ni, Nj = forest.shape  # Dimensions of the forest.\n",
    "\n",
    "    fs = 0  # Initialize fire size.\n",
    "\n",
    "    if forest[i0, j0] == 1:\n",
    "        active_i = [i0]  # Initialize the list.\n",
    "        active_j = [j0]  # Tnitialize the list. \n",
    "        forest[i0, j0] = -1  # Sets the tree on fire.\n",
    "        fs += 1  # Update fire size.\n",
    "        \n",
    "        while len(active_i) > 0:\n",
    "            next_i = []\n",
    "            next_j = []\n",
    "            for n in np.arange(len(active_i)):\n",
    "                # Coordinates of cell up.\n",
    "                i = (active_i[n] + 1) % Ni\n",
    "                j = active_j[n]\n",
    "                # Check status\n",
    "                if forest[i, j] == 1:\n",
    "                    next_i.append(i)  # Add to list.\n",
    "                    next_j.append(j)  # Add to list.\n",
    "                    forest[i, j] = -1  # Sets the current tree on fire.\n",
    "                    fs += 1  # Update fire size.\n",
    "\n",
    "                # Coordinates of cell down.\n",
    "                i = (active_i[n] - 1) % Ni\n",
    "                j = active_j[n]\n",
    "                # Check status\n",
    "                if forest[i, j] == 1:\n",
    "                    next_i.append(i)  # Add to list.\n",
    "                    next_j.append(j)  # Add to list.\n",
    "                    forest[i, j] = -1  # Sets the current tree on fire.\n",
    "                    fs += 1  # Update fire size.\n",
    "\n",
    "                # Coordinates of cell left.\n",
    "                i = active_i[n]\n",
    "                j = (active_j[n] - 1) % Nj\n",
    "                # Check status\n",
    "                if forest[i, j] == 1:\n",
    "                    next_i.append(i)  # Add to list.\n",
    "                    next_j.append(j)  # Add to list.\n",
    "                    forest[i, j] = -1  # Sets the current tree on fire.\n",
    "                    fs += 1  # Update fire size.\n",
    "\n",
    "                # Coordinates of cell right.\n",
    "                i = active_i[n]\n",
    "                j = (active_j[n] + 1) % Nj\n",
    "                # Check status\n",
    "                if forest[i, j] == 1:\n",
    "                    next_i.append(i)  # Add to list.\n",
    "                    next_j.append(j)  # Add to list.\n",
    "                    forest[i, j] = -1  # Sets the current tree on fire.\n",
    "                    fs += 1  # Update fire size.\n",
    "\n",
    "            active_i = next_i\n",
    "            active_j = next_j        \n",
    "            \n",
    "    return fs, forest"
   ]
  },
  {
   "cell_type": "markdown",
   "metadata": {},
   "source": [
    "### Simulation\n",
    "\n",
    "Initialize the system"
   ]
  },
  {
   "cell_type": "code",
   "execution_count": 11,
   "metadata": {},
   "outputs": [],
   "source": [
    "N = 100  # Side of the forest.\n",
    "p = 0.01  # Growth probability.\n",
    "f = 0.2  # Lightning strike probability.\n",
    "\n",
    "forest = np.zeros([N, N])  # Empty forest.\n",
    "fire_size = []  # Empty list of fire sizes."
   ]
  },
  {
   "cell_type": "markdown",
   "metadata": {},
   "source": [
    "Let's run the simulation (visualization every time step)"
   ]
  },
  {
   "cell_type": "code",
   "execution_count": 13,
   "metadata": {},
   "outputs": [
    {
     "ename": "TclError",
     "evalue": "invalid command name \".!canvas\"",
     "output_type": "error",
     "traceback": [
      "\u001b[1;31m---------------------------------------------------------------------------\u001b[0m",
      "\u001b[1;31mTclError\u001b[0m                                  Traceback (most recent call last)",
      "Cell \u001b[1;32mIn[13], line 40\u001b[0m\n\u001b[0;32m     38\u001b[0m \u001b[38;5;66;03m# Update animation frame.\u001b[39;00m\n\u001b[0;32m     39\u001b[0m \u001b[38;5;28;01mif\u001b[39;00m step \u001b[38;5;241m%\u001b[39m N_skip \u001b[38;5;241m==\u001b[39m \u001b[38;5;241m0\u001b[39m:        \n\u001b[1;32m---> 40\u001b[0m     \u001b[43mcanvas\u001b[49m\u001b[38;5;241;43m.\u001b[39;49m\u001b[43mdelete\u001b[49m\u001b[43m(\u001b[49m\u001b[38;5;124;43m'\u001b[39;49m\u001b[38;5;124;43mall\u001b[39;49m\u001b[38;5;124;43m'\u001b[39;49m\u001b[43m)\u001b[49m\n\u001b[0;32m     41\u001b[0m     trees \u001b[38;5;241m=\u001b[39m []\n\u001b[0;32m     42\u001b[0m     \u001b[38;5;28;01mfor\u001b[39;00m i \u001b[38;5;129;01min\u001b[39;00m \u001b[38;5;28mrange\u001b[39m(Ni):\n",
      "File \u001b[1;32mC:\\Program Files\\WindowsApps\\PythonSoftwareFoundation.Python.3.11_3.11.2544.0_x64__qbz5n2kfra8p0\\Lib\\tkinter\\__init__.py:2896\u001b[0m, in \u001b[0;36mCanvas.delete\u001b[1;34m(self, *args)\u001b[0m\n\u001b[0;32m   2894\u001b[0m \u001b[38;5;28;01mdef\u001b[39;00m \u001b[38;5;21mdelete\u001b[39m(\u001b[38;5;28mself\u001b[39m, \u001b[38;5;241m*\u001b[39margs):\n\u001b[0;32m   2895\u001b[0m \u001b[38;5;250m    \u001b[39m\u001b[38;5;124;03m\"\"\"Delete items identified by all tag or ids contained in ARGS.\"\"\"\u001b[39;00m\n\u001b[1;32m-> 2896\u001b[0m     \u001b[38;5;28;43mself\u001b[39;49m\u001b[38;5;241;43m.\u001b[39;49m\u001b[43mtk\u001b[49m\u001b[38;5;241;43m.\u001b[39;49m\u001b[43mcall\u001b[49m\u001b[43m(\u001b[49m\u001b[43m(\u001b[49m\u001b[38;5;28;43mself\u001b[39;49m\u001b[38;5;241;43m.\u001b[39;49m\u001b[43m_w\u001b[49m\u001b[43m,\u001b[49m\u001b[43m \u001b[49m\u001b[38;5;124;43m'\u001b[39;49m\u001b[38;5;124;43mdelete\u001b[39;49m\u001b[38;5;124;43m'\u001b[39;49m\u001b[43m)\u001b[49m\u001b[43m \u001b[49m\u001b[38;5;241;43m+\u001b[39;49m\u001b[43m \u001b[49m\u001b[43margs\u001b[49m\u001b[43m)\u001b[49m\n",
      "\u001b[1;31mTclError\u001b[0m: invalid command name \".!canvas\""
     ]
    }
   ],
   "source": [
    "import time\n",
    "from tkinter import *\n",
    "\n",
    "Ni, Nj = forest.shape  # Sets the variables describing the shape.\n",
    "\n",
    "N_skip = 1 # Visualize status every N_skip steps. \n",
    "\n",
    "window_size = 600\n",
    "\n",
    "tk = Tk()\n",
    "tk.geometry(f'{window_size + 20}x{window_size + 20}')\n",
    "tk.configure(background='#000000')\n",
    "\n",
    "canvas = Canvas(tk, background='#ECECEC')  # Generate animation window.\n",
    "tk.attributes('-topmost', 0)\n",
    "canvas.place(x=10, y=10, height=window_size, width=window_size)\n",
    "\n",
    "step = 0\n",
    "\n",
    "def stop_loop(event):\n",
    "    global running\n",
    "    running = False\n",
    "tk.bind(\"<Escape>\", stop_loop)  # Bind the Escape key to stop the loop.\n",
    "running = True  # Flag to control the loop.\n",
    "while running:\n",
    "\n",
    "    forest = grow_trees(forest, p)  # Grow new trees.\n",
    "    \n",
    "    p_lightning = np.random.rand()\n",
    "    if p_lightning < f:  # Lightning occurs.\n",
    "        i0 = np.random.randint(Ni)\n",
    "        j0 = np.random.randint(Nj)\n",
    "        \n",
    "        fs, forest = propagate_fire(forest, i0, j0)\n",
    "        if fs > 0:\n",
    "            fire_size.append(fs) \n",
    "        \n",
    "    # Update animation frame.\n",
    "    if step % N_skip == 0:        \n",
    "        canvas.delete('all')\n",
    "        trees = []\n",
    "        for i in range(Ni):\n",
    "            for j in range(Nj):\n",
    "                tree_color = '#00AA40' if forest[i, j] == 1 \\\n",
    "                else '#FF0000' if forest[i, j] == -1 else '#FFFFFF'\n",
    "                trees.append(\n",
    "                    canvas.create_rectangle(\n",
    "                        j / Nj * window_size, \n",
    "                        i / Ni * window_size,\n",
    "                        (j + 1) / Nj * window_size, \n",
    "                        (i + 1) / Ni * window_size,\n",
    "                        outline='', \n",
    "                        fill=tree_color,\n",
    "                    )\n",
    "                )\n",
    "        \n",
    "        tk.title(f'Iteration {step}')\n",
    "        tk.update_idletasks()\n",
    "        tk.update()\n",
    "        time.sleep(0.001)  # Increase to slow down the simulation.\n",
    "\n",
    "    step += 1\n",
    "    \n",
    "    forest[np.where(forest == -1)] = 0\n",
    "\n",
    "tk.update_idletasks()\n",
    "tk.update()\n",
    "tk.mainloop()  # Release animation handle (close window to finish)."
   ]
  },
  {
   "cell_type": "markdown",
   "metadata": {},
   "source": [
    "Let's run the code without visualization to generate enough data for the fire sizes"
   ]
  },
  {
   "cell_type": "code",
   "execution_count": null,
   "metadata": {},
   "outputs": [
    {
     "name": "stdout",
     "output_type": "stream",
     "text": [
      "Target of 325 fire events reached\n"
     ]
    }
   ],
   "source": [
    "N = 100  # Side of the forest.\n",
    "p = 0.01  # Growth probability.\n",
    "f = 0.2  # Lightning strike probability.\n",
    "target_num_fires = 300\n",
    "\n",
    "forest = np.zeros([N, N])  # Empty forest.\n",
    "fire_size = []  # Empty list of fire sizes.\n",
    "fire_history = []  # Empty list of fire history.\n",
    "\n",
    "num_fires = 0\n",
    "while num_fires < target_num_fires:\n",
    "\n",
    "    forest = grow_trees(forest, p)  # Grow new trees.\n",
    "    \n",
    "    p_lightning = np.random.rand()\n",
    "    if p_lightning < f:  # Lightning occurs.\n",
    "        i0 = np.random.randint(Ni)\n",
    "        j0 = np.random.randint(Nj)\n",
    "        \n",
    "        fs, forest = propagate_fire(forest, i0, j0)\n",
    "        if fs > 0:\n",
    "            fire_size.append(fs) \n",
    "            num_fires += 1 \n",
    "            \n",
    "        fire_history.append(fs)\n",
    "        \n",
    "    else:\n",
    "        fire_history.append(0)\n",
    "\n",
    "    forest[np.where(forest == -1)] = 0\n",
    "\n",
    "print(f'Target of {target_num_fires} fire events reached')\n"
   ]
  },
  {
   "cell_type": "markdown",
   "metadata": {},
   "source": [
    "Let's plot the fire complete history as a function of time.\n",
    "\n",
    "In this we include also the time steps where no fire occurs."
   ]
  },
  {
   "cell_type": "code",
   "execution_count": 16,
   "metadata": {},
   "outputs": [
    {
     "data": {
      "image/png": "[encoded data removed]",
      "text/plain": [
       "<Figure size 640x480 with 1 Axes>"
      ]
     },
     "metadata": {},
     "output_type": "display_data"
    }
   ],
   "source": [
    "from matplotlib import pyplot as plt\n",
    "\n",
    "t = np.array(np.arange(len(fire_history)))\n",
    "fh = np.array(fire_history) / forest.size\n",
    "\n",
    "plt.plot(t, fh, '.-', color='k', markersize=5)\n",
    "\n",
    "plt.title('Fire History')\n",
    "\n",
    "plt.xlabel('step')\n",
    "plt.ylabel('relative fire size')\n",
    "\n",
    "plt.show()"
   ]
  },
  {
   "cell_type": "markdown",
   "metadata": {},
   "source": [
    "Let's focus on the **fires** only.\n",
    "\n",
    "We start with plotting a histogram (experimental probability distribution)"
   ]
  },
  {
   "cell_type": "code",
   "execution_count": 17,
   "metadata": {},
   "outputs": [
    {
     "data": {
      "image/png": "[encoded data removed]",
      "text/plain": [
       "<Figure size 640x480 with 1 Axes>"
      ]
     },
     "metadata": {},
     "output_type": "display_data"
    }
   ],
   "source": [
    "max_fire_size = max(fire_size)\n",
    "\n",
    "bin_width = 100\n",
    "\n",
    "bins_edges = (np.arange(0, max_fire_size + bin_width, bin_width) \n",
    "              - 0.5 * bin_width)\n",
    "bins = bins_edges[1:] + 0.5 * bin_width\n",
    "\n",
    "occurrence = np.histogram(fire_size, bins=bins_edges)\n",
    "\n",
    "plt.bar(bins, occurrence[0], color='r', width=0.4, edgecolor='k')\n",
    "\n",
    "plt.title('Histogram of fire sizes')\n",
    "\n",
    "plt.xlabel('size')\n",
    "plt.ylabel('occurrence')\n",
    "\n",
    "plt.show()"
   ]
  },
  {
   "cell_type": "markdown",
   "metadata": {},
   "source": [
    "The histogram, or the empirical **probability distribution**, is not the best way to visualize the data in this case.\n",
    "\n",
    "The behaviour is captured better using the empirical **complementary cumulative distribution function**"
   ]
  },
  {
   "cell_type": "markdown",
   "metadata": {},
   "source": [
    "### Complementary Cumulative Distribution Function\n",
    "\n",
    "If we have a probability distribution $p(m)$, the **complementary cumulative distribution function** is defined as:\n",
    "\n",
    "$$\n",
    "    C(n) = \\sum_{m=n}^{+\\infty} p(m) \n",
    "$$"
   ]
  },
  {
   "cell_type": "markdown",
   "metadata": {},
   "source": [
    "Let's implement a function that, given the sequence of fire events, returns the empirical complementary cumulative distribution function."
   ]
  },
  {
   "cell_type": "code",
   "execution_count": 19,
   "metadata": {},
   "outputs": [],
   "source": [
    "def complementary_CDF(f, f_max):\n",
    "    \"\"\"\n",
    "    Function to return the complementary cumulative distribution function.\n",
    "    \n",
    "    Parameters\n",
    "    ==========\n",
    "    f : Sequence of values (as they occur, non necessarily sorted).\n",
    "    f_max : Integer. Maximum possible value for the values in f. \n",
    "    \"\"\"\n",
    "    \n",
    "    num_events = len(f)\n",
    "    s = np.sort(np.array(f)) / f_max  # Sort f in ascending order.\n",
    "    c = np.array(np.arange(num_events, 0, -1)) / (num_events)  # Descending.\n",
    "    \n",
    "    c_CDF = c\n",
    "    s_rel = s\n",
    "\n",
    "    return c_CDF, s_rel"
   ]
  },
  {
   "cell_type": "markdown",
   "metadata": {},
   "source": [
    "Let's check the complementary cumulative distribution function for our data."
   ]
  },
  {
   "cell_type": "code",
   "execution_count": 20,
   "metadata": {},
   "outputs": [
    {
     "data": {
      "image/png": "[encoded data removed]",
      "text/plain": [
       "<Figure size 640x480 with 1 Axes>"
      ]
     },
     "metadata": {},
     "output_type": "display_data"
    }
   ],
   "source": [
    "c_CDF, s_rel = complementary_CDF(fire_size, forest.size)\n",
    "\n",
    "# Note loglog plot!\n",
    "plt.loglog(s_rel, c_CDF, \".-\", color='k', markersize=5, linewidth=0.5)\n",
    "\n",
    "plt.title('Empirical cCDF')\n",
    "\n",
    "plt.xlabel('relative size')\n",
    "plt.ylabel('c CDF')\n",
    "\n",
    "plt.show()"
   ]
  },
  {
   "cell_type": "markdown",
   "metadata": {},
   "source": [
    "### Comparison with randomly grown forests\n",
    "\n",
    "Let's compare the size of the fires in the fire-grown forest with a randomly grown forest of the same size (i.e., the same number of trees)\n",
    "\n",
    "To do that, we write a function that generates a random forest with a given numbers of trees."
   ]
  },
  {
   "cell_type": "code",
   "execution_count": 21,
   "metadata": {},
   "outputs": [],
   "source": [
    "import random\n",
    "\n",
    "def random_forest(Ni, Nj, T):\n",
    "    \"\"\"\n",
    "    Function to return a randomly grown forest.\n",
    "    Returns also the coordinates of the random ignition point.\n",
    "    \n",
    "    Parameters\n",
    "    ==========\n",
    "    Ni : First dimension of the forest array.\n",
    "    Nj : Second dimension of the forest array.\n",
    "    T : Integer. Number of trees in the forest. \n",
    "    \"\"\"\n",
    "    \n",
    "    rf = np.zeros([Ni, Nj])\n",
    "    \n",
    "    nt = random.sample(range(Ni * Nj), T)\n",
    "    i_list = list(map(lambda x: x % Ni, nt)) \n",
    "    j_list = list(map(lambda x: x // Ni, nt))\n",
    "    \n",
    "    rf[i_list, j_list] = 1\n",
    "    \n",
    "    ignition = np.random.randint(T)\n",
    "    i_fire = i_list[ignition]\n",
    "    j_fire = j_list[ignition]\n",
    "    \n",
    "    return rf, i_fire, j_fire"
   ]
  },
  {
   "cell_type": "markdown",
   "metadata": {},
   "source": [
    "Let's run a simulation where we compare the fire sizes in fire-grown forest and random grown forest."
   ]
  },
  {
   "cell_type": "code",
   "execution_count": 22,
   "metadata": {},
   "outputs": [
    {
     "name": "stdout",
     "output_type": "stream",
     "text": [
      "Target of 300 fire events reached\n"
     ]
    }
   ],
   "source": [
    "N = 100  # Side of the forest.\n",
    "p = 0.01  # Growth probability.\n",
    "f = 0.2  # Lightning strike probability.\n",
    "target_num_fires = 300  \n",
    "\n",
    "forest = np.zeros([N, N])  # Empty forest.\n",
    "fire_size = []  # Empty list of fire sizes for the fire-grown forest.\n",
    "rf_fire_size = []  # Empty list of fire history for the random forest.\n",
    "\n",
    "num_fires = 0\n",
    "Ni, Nj = forest.shape\n",
    "\n",
    "while num_fires < target_num_fires:\n",
    "\n",
    "    forest = grow_trees(forest, p)  # Grow new trees.\n",
    "    \n",
    "    p_lightning = np.random.rand()\n",
    "    if p_lightning < f:  # Lightning occurs.\n",
    "        i0 = np.random.randint(Ni)\n",
    "        j0 = np.random.randint(Nj)\n",
    "        \n",
    "        T = int(np.sum(forest)) # Current number of trees.\n",
    "        \n",
    "        fs, forest = propagate_fire(forest, i0, j0)\n",
    "        if fs > 0:\n",
    "            fire_size.append(fs) \n",
    "            num_fires += 1 \n",
    "            \n",
    "            # generate random forest for a comparison\n",
    "            rf, i0_rf, j0_rf = random_forest(Ni, Nj, T)\n",
    "            fs_rf, rf = propagate_fire(rf, i0_rf, j0_rf)\n",
    "            rf_fire_size.append(fs_rf) \n",
    "                                \n",
    "    forest[np.where(forest == -1)] = 0\n",
    "\n",
    "print(f'Target of {target_num_fires} fire events reached')"
   ]
  },
  {
   "cell_type": "markdown",
   "metadata": {},
   "source": [
    "Let's compare the cCDF of the two types of fire events:\n",
    "\n",
    "- fires sizes in a forest grown and shaped by forest fires\n",
    "- fires sizes in a randomly generated forest"
   ]
  },
  {
   "cell_type": "code",
   "execution_count": 23,
   "metadata": {},
   "outputs": [
    {
     "data": {
      "image/png": "[encoded data removed]",
      "text/plain": [
       "<Figure size 640x480 with 1 Axes>"
      ]
     },
     "metadata": {},
     "output_type": "display_data"
    }
   ],
   "source": [
    "c_CDF, s_rel = complementary_CDF(fire_size, forest.size)\n",
    "\n",
    "c_CDF_rf, s_rel_rf = complementary_CDF(rf_fire_size, forest.size)\n",
    "\n",
    "\n",
    "plt.loglog(s_rel, c_CDF, '.-', color='k', markersize=5,\n",
    "           label='grown with fire')\n",
    "plt.loglog(s_rel_rf, c_CDF_rf, '.-', color='b', markersize=5,\n",
    "           label='randomly generated')\n",
    "\n",
    "plt.legend()\n",
    "\n",
    "plt.title('Empirical cCDF')\n",
    "\n",
    "plt.xlabel('relative size')\n",
    "plt.ylabel('c CDF')\n",
    "\n",
    "plt.show()"
   ]
  },
  {
   "cell_type": "markdown",
   "metadata": {},
   "source": [
    "### cCDF and power law trends\n",
    "\n",
    "The central region (in this case: relative size of the fire between $10^{-3}$ and $10^{-1}$) has the trend of a **power law**.\n",
    "\n",
    "In fact, if the probability distribution has an exponent $\\alpha$\n",
    "\n",
    "$$\n",
    "P(x) \\sim x^{-\\alpha} \\quad \\quad {\\rm with} \\quad \\alpha > 1 \\quad {\\rm and} \\quad x \\in \\left\\lbrack x_{0}, \\infty \\right\\lbrack\n",
    "$$\n",
    "\n",
    "the complementary CDF has an exponent $1-\\alpha$\n",
    "\n",
    "$$\n",
    "C(x) \\sim x^{1-\\alpha} \\quad \\quad {\\rm with} \\quad \\alpha > 1 \\quad {\\rm and} \\quad x \\in \\left\\lbrack x_{0}, \\infty \\right\\lbrack\n",
    "$$"
   ]
  },
  {
   "cell_type": "markdown",
   "metadata": {},
   "source": [
    "Let's determine the exponent for the empirical cCDF by a linear fit"
   ]
  },
  {
   "cell_type": "code",
   "execution_count": 24,
   "metadata": {},
   "outputs": [
    {
     "name": "stdout",
     "output_type": "stream",
     "text": [
      "The empirical cCDF has an exponent beta = -0.2391\n",
      "The empirical prob. distr. exponent: -alpha\n",
      "with alpha = 1.239\n"
     ]
    }
   ],
   "source": [
    "min_rel_size = 1e-3\n",
    "max_rel_size = 1e-1\n",
    "\n",
    "\n",
    "is_min = np.searchsorted(s_rel, min_rel_size)\n",
    "is_max = np.searchsorted(s_rel, max_rel_size)\n",
    "\n",
    "# Note!!! The linear dependence is between the logarithms\n",
    "p = np.polyfit(np.log(s_rel[is_min:is_max]),\n",
    "               np.log(c_CDF[is_min:is_max]), 1)\n",
    "\n",
    "beta = p[0]\n",
    "print(f'The empirical cCDF has an exponent beta = {beta:.4}')\n",
    "\n",
    "alpha = 1 - beta\n",
    "\n",
    "print(f'The empirical prob. distr. exponent: -alpha')\n",
    "print(f'with alpha = {alpha:.4}')"
   ]
  },
  {
   "cell_type": "markdown",
   "metadata": {},
   "source": [
    "Let's compare with a **synthetic sequence** of fire sizes drawn from a power law probability distribution with exponent $-\\alpha$\n",
    "\n",
    "Implement a function that draws number according to the correct probability distribution, starting from the function that draws random numbers from the flat distribution in $\\left\\lbrack0, 1 \\right\\rbrack$ "
   ]
  },
  {
   "cell_type": "code",
   "execution_count": 25,
   "metadata": {},
   "outputs": [],
   "source": [
    "def powerlaw_random(alpha, x_min, num_drawings):\n",
    "    \"\"\"\n",
    "    Function that returns numbers drawn from a probability distribution\n",
    "    P(x) ~ x ** (- alpha) starting from random numbers in [0, 1].\n",
    "    \n",
    "    Parameters\n",
    "    ==========\n",
    "    alpha : Exponent of the probability distribution. Must be > 1.\n",
    "    x_min : Minimum value of the domain of P(x).\n",
    "    num_drawings : Integer. Numbers of random numbers generated. \n",
    "    \"\"\"\n",
    "    \n",
    "    if alpha <= 1:\n",
    "        raise ValueError('alpha must be > 1')\n",
    "\n",
    "    if x_min <= 0:\n",
    "        raise ValueError('x_min must be > 0')\n",
    "\n",
    "            \n",
    "    r = np.random.rand(num_drawings)\n",
    "    \n",
    "    random_values = x_min * r ** (1 / (1 - alpha))\n",
    "\n",
    "    return random_values"
   ]
  },
  {
   "cell_type": "markdown",
   "metadata": {},
   "source": [
    "### Fitting of the exponent of the empirical cCDF\n",
    "\n",
    "We fit the exponent of the linear part of the cCDF and then we compare with synthetic data generated with the same power law."
   ]
  },
  {
   "cell_type": "code",
   "execution_count": 26,
   "metadata": {},
   "outputs": [
    {
     "data": {
      "image/png": "[encoded data removed]",
      "text/plain": [
       "<Figure size 640x480 with 1 Axes>"
      ]
     },
     "metadata": {},
     "output_type": "display_data"
    }
   ],
   "source": [
    "x_min = 1  # minimum value for the generated numbers\n",
    "num_drawings = 5000  \n",
    "\n",
    "pl_size = powerlaw_random(alpha, x_min, num_drawings)\n",
    "\n",
    "c_CDF_pl, s_rel_pl = complementary_CDF(pl_size, forest.size)\n",
    "\n",
    "# Note loglog plot!\n",
    "plt.loglog(s_rel, c_CDF, '.-', color='k', linewidth=1, \n",
    "           label='empirical')\n",
    "plt.loglog(s_rel_pl, c_CDF_pl, '-', color='g', linewidth=3, \n",
    "           label='synthetic data')\n",
    "\n",
    "plt.xlim([min(s_rel), 1])\n",
    "\n",
    "plt.legend()\n",
    "\n",
    "plt.title('Comparison with synthetic data')\n",
    "\n",
    "plt.xlabel('relative size')\n",
    "plt.ylabel('c CDF')\n",
    "\n",
    "plt.show()"
   ]
  }
 ],
 "metadata": {
  "kernelspec": {
   "display_name": "Python 3",
   "language": "python",
   "name": "python3"
  },
  "language_info": {
   "codemirror_mode": {
    "name": "ipython",
    "version": 3
   },
   "file_extension": ".py",
   "mimetype": "text/x-python",
   "name": "python",
   "nbconvert_exporter": "python",
   "pygments_lexer": "ipython3",
   "version": "3.11.9"
  }
 },
 "nbformat": 4,
 "nbformat_minor": 4
}
